{
 "cells": [
  {
   "cell_type": "code",
   "execution_count": 1,
   "id": "156ff519-58b3-402d-b285-35cfd0f6a6e1",
   "metadata": {},
   "outputs": [
    {
     "name": "stdin",
     "output_type": "stream",
     "text": [
      "Guess the coin toss! Enter heads or tails:  heads\n"
     ]
    },
    {
     "name": "stdout",
     "output_type": "stream",
     "text": [
      "Nope! Guess again.\n"
     ]
    },
    {
     "name": "stdin",
     "output_type": "stream",
     "text": [
      "Enter heads or tails:  tails\n"
     ]
    },
    {
     "name": "stdout",
     "output_type": "stream",
     "text": [
      "You got it!\n"
     ]
    }
   ],
   "source": [
    "import random\n",
    "\n",
    "def coin_toss_game():\n",
    "    guess = ''\n",
    "    while guess not in ('heads', 'tails'):\n",
    "        guess = input(\"Guess the coin toss! Enter heads or tails: \").lower()\n",
    "\n",
    "    toss = random.choice(['heads', 'tails'])\n",
    "\n",
    "    if guess == toss:\n",
    "        print(\"You got it!\")\n",
    "    else:\n",
    "        print(\"Nope! Guess again.\")\n",
    "        guess = input(\"Enter heads or tails: \").lower()\n",
    "        if guess == toss:\n",
    "            print(\"You got it!\")\n",
    "        else:\n",
    "            print(\"Nope. You are really bad at this game.\")\n",
    "\n",
    "if __name__ == \"__main__\":\n",
    "    coin_toss_game()"
   ]
  },
  {
   "cell_type": "code",
   "execution_count": 5,
   "id": "f71dbf0c-a0ec-4d0b-a0fc-bd3c55f7fcd1",
   "metadata": {},
   "outputs": [
    {
     "name": "stdout",
     "output_type": "stream",
     "text": [
      "Choose an option:\n",
      "1. Close numbering gaps\n",
      "2. Insert a numbering gap\n"
     ]
    },
    {
     "name": "stdin",
     "output_type": "stream",
     "text": [
      "Enter 1 or 2:  1\n",
      "Enter the folder path:  2\n",
      "Enter the file prefix (e.g., spam):  spam\n",
      "Enter the file extension (e.g., .txt):  txt\n"
     ]
    },
    {
     "name": "stdout",
     "output_type": "stream",
     "text": [
      "❌ Error: Folder not found.\n"
     ]
    }
   ],
   "source": [
    "# NAME: MADHURYA MANJUNATH\n",
    "# USN: 1AY24BT026\n",
    "\n",
    "import os\n",
    "import re\n",
    "\n",
    "def get_numbered_files(folder, prefix, extension):\n",
    "    \"\"\"\n",
    "    Returns a sorted list of tuples containing (number, filename)\n",
    "    for files in the folder matching the pattern: prefix###.extension\n",
    "    \"\"\"\n",
    "    pattern = re.compile(rf\"^{re.escape(prefix)}(\\d+){re.escape(extension)}$\")\n",
    "    numbered_files = []\n",
    "\n",
    "    for filename in os.listdir(folder):\n",
    "        match = pattern.match(filename)\n",
    "        if match:\n",
    "            number = int(match.group(1))\n",
    "            numbered_files.append((number, filename))\n",
    "\n",
    "    return sorted(numbered_files)\n",
    "\n",
    "def close_gaps(folder, prefix, extension):\n",
    "    \"\"\"\n",
    "    Renames files to close numeric gaps in their filenames.\n",
    "    \"\"\"\n",
    "    numbered_files = get_numbered_files(folder, prefix, extension)\n",
    "    expected_number = 1\n",
    "\n",
    "    for actual_number, filename in numbered_files:\n",
    "        if actual_number != expected_number:\n",
    "            new_filename = f\"{prefix}{str(expected_number).zfill(3)}{extension}\"\n",
    "            src = os.path.join(folder, filename)\n",
    "            dst = os.path.join(folder, new_filename)\n",
    "            print(f\"Renaming: {filename} ➜ {new_filename}\")\n",
    "            os.rename(src, dst)\n",
    "        expected_number += 1\n",
    "\n",
    "    print(\"\\n✅ Gaps closed successfully.\")\n",
    "\n",
    "def insert_gap(folder, prefix, extension, insert_at):\n",
    "    \"\"\"\n",
    "    Inserts a numeric gap in the file sequence starting from a given position.\n",
    "    \"\"\"\n",
    "    numbered_files = get_numbered_files(folder, prefix, extension)\n",
    "\n",
    "    for number, filename in sorted(numbered_files, reverse=True):\n",
    "        if number >= insert_at:\n",
    "            new_number = number + 1\n",
    "            new_filename = f\"{prefix}{str(new_number).zfill(3)}{extension}\"\n",
    "            src = os.path.join(folder, filename)\n",
    "            dst = os.path.join(folder, new_filename)\n",
    "            print(f\"Renaming: {filename} ➜ {new_filename}\")\n",
    "            os.rename(src, dst)\n",
    "\n",
    "    print(f\"\\n➕ Gap inserted at position {insert_at}.\")\n",
    "\n",
    "def main():\n",
    "    print(\"Choose an option:\")\n",
    "    print(\"1. Close numbering gaps\")\n",
    "    print(\"2. Insert a numbering gap\")\n",
    "    choice = input(\"Enter 1 or 2: \").strip()\n",
    "\n",
    "    folder = input(\"Enter the folder path: \").strip()\n",
    "    prefix = input(\"Enter the file prefix (e.g., spam): \").strip()\n",
    "    extension = input(\"Enter the file extension (e.g., .txt): \").strip()\n",
    "\n",
    "    if not os.path.isdir(folder):\n",
    "        print(\"❌ Error: Folder not found.\")\n",
    "        return\n",
    "\n",
    "    if choice == '1':\n",
    "        close_gaps(folder, prefix, extension)\n",
    "    elif choice == '2':\n",
    "        try:\n",
    "            insert_at = int(input(\"Enter the number where to insert the gap (e.g., 2): \"))\n",
    "            insert_gap(folder, prefix, extension, insert_at)\n",
    "        except ValueError:\n",
    "            print(\"❌ Invalid number for insert position.\")\n",
    "    else:\n",
    "        print(\"❌ Invalid choice.\")\n",
    "\n",
    "if __name__ == \"__main__\":\n",
    "    main()"
   ]
  },
  {
   "cell_type": "code",
   "execution_count": 9,
   "id": "ef19fd12-c1ff-40a5-921f-db464838bd63",
   "metadata": {},
   "outputs": [
    {
     "name": "stdin",
     "output_type": "stream",
     "text": [
      "Enter the path to the folder to scan:  akshatha\n"
     ]
    },
    {
     "name": "stdout",
     "output_type": "stream",
     "text": [
      "❌ Error: Folder not found.\n"
     ]
    }
   ],
   "source": [
    "import os\n",
    "\n",
    "def find_large_files():\n",
    "    folder = input(\"Enter the path to the folder to scan: \").strip()\n",
    "    if not os.path.isdir(folder):\n",
    "        print(\"❌ Error: Folder not found.\")\n",
    "        return\n",
    "\n",
    "    try:\n",
    "        size_limit_mb = float(input(\"Enter the size limit in MB (default 100): \") or 100)\n",
    "    except ValueError:\n",
    "        print(\"❌ Invalid size input.\")\n",
    "        return\n",
    "\n",
    "    size_limit_bytes = size_limit_mb * 1024 * 1024\n",
    "    found = False\n",
    "\n",
    "    print(f\"\\n🔍 Searching for files larger than {size_limit_mb} MB...\\n\")\n",
    "\n",
    "    for foldername, subfolders, filenames in os.walk(folder):\n",
    "        for filename in filenames:\n",
    "            filepath = os.path.join(foldername, filename)\n",
    "            try:\n",
    "                filesize = os.path.getsize(filepath)\n",
    "                if filesize > size_limit_bytes:\n",
    "                    size_mb = filesize / (1024 * 1024)\n",
    "                    print(f\"{os.path.abspath(filepath)} — {size_mb:.2f} MB\")\n",
    "                    found = True\n",
    "            except OSError:\n",
    "                print(f\"⚠️ Could not access file: {filepath}\")\n",
    "\n",
    "    if not found:\n",
    "        print(\"✅ No files found larger than the specified size.\")\n",
    "\n",
    "if __name__ == \"__main__\":\n",
    "    find_large_files()"
   ]
  },
  {
   "cell_type": "code",
   "execution_count": 11,
   "id": "04477b57-6dbe-4d39-8aa0-b5fad4a73dca",
   "metadata": {},
   "outputs": [
    {
     "name": "stdin",
     "output_type": "stream",
     "text": [
      "Enter the name of the Mad Libs text file:  python\n"
     ]
    },
    {
     "name": "stdout",
     "output_type": "stream",
     "text": [
      "❌ Error: File 'python' not found.\n"
     ]
    }
   ],
   "source": [
    "import re\n",
    "\n",
    "def mad_libs():\n",
    "    filename = input(\"Enter the name of the Mad Libs text file: \").strip()\n",
    "\n",
    "    # Attempt to read the file content\n",
    "    try:\n",
    "        with open(filename, 'r') as file:\n",
    "            content = file.read()\n",
    "    except FileNotFoundError:\n",
    "        print(f\"❌ Error: File '{filename}' not found.\")\n",
    "        return\n",
    "\n",
    "    # Pattern to match placeholders\n",
    "    pattern = r'\\b(ADJECTIVE|NOUN|ADVERB|VERB)\\b'\n",
    "\n",
    "    # Prompt user for each placeholder\n",
    "    def replace_placeholder(match):\n",
    "        word_type = match.group(0).lower()\n",
    "        article = 'an' if word_type[0] in 'aeiou' else 'a'\n",
    "        return input(f\"Enter {article} {word_type}: \")\n",
    "\n",
    "    # Replace placeholders with user input\n",
    "    updated_content = re.sub(pattern, replace_placeholder, content)\n",
    "\n",
    "    # Output the final story\n",
    "    print(\"\\n=== Final Mad Libs Story ===\\n\")\n",
    "    print(updated_content)\n",
    "\n",
    "if __name__ == \"__main__\":\n",
    "    mad_libs()"
   ]
  },
  {
   "cell_type": "code",
   "execution_count": 13,
   "id": "d3d37720-48a4-477b-82e1-5f70d788deda",
   "metadata": {},
   "outputs": [
    {
     "name": "stdout",
     "output_type": "stream",
     "text": [
      "Start time: 09:45:00\n",
      "Duration: 01:35:00\n",
      "End time: 11:20:00\n",
      "Is end after start? True\n",
      "Start + 300 seconds: 09:50:00\n"
     ]
    }
   ],
   "source": [
    "class Time:\n",
    "    def __init__(self, hour=0, minute=0, second=0):\n",
    "        self.seconds = hour * 3600 + minute * 60 + second\n",
    "\n",
    "    def __str__(self):\n",
    "        return time_to_str(self)\n",
    "\n",
    "    def time_to_int(self):\n",
    "        return self.seconds\n",
    "\n",
    "    def is_after(self, other):\n",
    "        return self.seconds > other.seconds\n",
    "\n",
    "    def add_time(self, other):\n",
    "        return Time(0, 0, self.seconds + other.seconds)\n",
    "\n",
    "    def increment(self, seconds):\n",
    "        return Time(0, 0, self.seconds + seconds)\n",
    "\n",
    "def time_to_str(time):\n",
    "    seconds = time.seconds\n",
    "    hour = seconds // 3600\n",
    "    seconds %= 3600\n",
    "    minute = seconds // 60\n",
    "    second = seconds % 60\n",
    "    return f\"{hour:02d}:{minute:02d}:{second:02d}\"\n",
    "\n",
    "def int_to_time(seconds):\n",
    "    return Time(0, 0, seconds)\n",
    "\n",
    "def main():\n",
    "    start = Time(9, 45, 0)\n",
    "    print(\"Start time:\", start)\n",
    "\n",
    "    duration = Time(1, 35, 0)\n",
    "    print(\"Duration:\", duration)\n",
    "\n",
    "    end = start.add_time(duration)\n",
    "    print(\"End time:\", end)\n",
    "\n",
    "    print(\"Is end after start?\", end.is_after(start))\n",
    "\n",
    "    print(\"Start + 300 seconds:\", start.increment(300))\n",
    "\n",
    "if __name__ == \"__main__\":\n",
    "    main()"
   ]
  },
  {
   "cell_type": "code",
   "execution_count": 15,
   "id": "e8d4d288-ae62-40f4-8ee1-bfb5e9ec1eff",
   "metadata": {},
   "outputs": [
    {
     "name": "stdout",
     "output_type": "stream",
     "text": [
      "Kanga: Kangaroo with pouch contents: [apple, pencil, Kangaroo with its own pouch]\n",
      "Roo: Kangaroo with pouch contents: []\n"
     ]
    }
   ],
   "source": [
    "class Kangaroo:\n",
    "    def __init__(self):\n",
    "        self.pouch_contents = []\n",
    "\n",
    "    def put_in_pouch(self, item):\n",
    "        self.pouch_contents.append(item)\n",
    "\n",
    "    def __str__(self):\n",
    "        contents = []\n",
    "        for item in self.pouch_contents:\n",
    "            if isinstance(item, Kangaroo):\n",
    "                contents.append(\"Kangaroo with its own pouch\")\n",
    "            else:\n",
    "                contents.append(str(item))\n",
    "        return f\"Kangaroo with pouch contents: [{', '.join(contents)}]\"\n",
    "\n",
    "# Create Kangaroo instances\n",
    "kanga = Kangaroo()\n",
    "roo = Kangaroo()\n",
    "\n",
    "# Fill kanga’s pouch\n",
    "kanga.put_in_pouch(\"apple\")\n",
    "kanga.put_in_pouch(\"pencil\")\n",
    "kanga.put_in_pouch(roo)  # Putting another kangaroo inside!\n",
    "\n",
    "# Display the pouch contents\n",
    "print(\"Kanga:\", kanga)\n",
    "print(\"Roo:\", roo)"
   ]
  },
  {
   "cell_type": "code",
   "execution_count": 17,
   "id": "0a66f5d3-3bc1-4ced-87cb-d0ab77e3ae58",
   "metadata": {},
   "outputs": [
    {
     "name": "stdout",
     "output_type": "stream",
     "text": [
      "Point in circle: True\n",
      "Rectangle entirely in circle: True\n",
      "Rectangle overlaps circle: True\n"
     ]
    }
   ],
   "source": [
    "import math\n",
    "\n",
    "class Point:\n",
    "    def __init__(self, x, y):\n",
    "        self.x = x\n",
    "        self.y = y\n",
    "\n",
    "class Circle:\n",
    "    def __init__(self, center, radius):\n",
    "        self.center = center\n",
    "        self.radius = radius\n",
    "\n",
    "class Rectangle:\n",
    "    def __init__(self, x, y, width, height):\n",
    "        self.x = x\n",
    "        self.y = y\n",
    "        self.width = width\n",
    "        self.height = height\n",
    "\n",
    "def point_in_circle(circle, point):\n",
    "    dx = point.x - circle.center.x\n",
    "    dy = point.y - circle.center.y\n",
    "    return math.hypot(dx, dy) <= circle.radius\n",
    "\n",
    "def rect_in_circle(circle, rect):\n",
    "    corners = [\n",
    "        Point(rect.x, rect.y),\n",
    "        Point(rect.x + rect.width, rect.y),\n",
    "        Point(rect.x, rect.y + rect.height),\n",
    "        Point(rect.x + rect.width, rect.y + rect.height)\n",
    "    ]\n",
    "    return all(point_in_circle(circle, corner) for corner in corners)\n",
    "\n",
    "def rect_circle_overlap(circle, rect):\n",
    "    corners = [\n",
    "        Point(rect.x, rect.y),\n",
    "        Point(rect.x + rect.width, rect.y),\n",
    "        Point(rect.x, rect.y + rect.height),\n",
    "        Point(rect.x + rect.width, rect.y + rect.height)\n",
    "    ]\n",
    "    return any(point_in_circle(circle, corner) for corner in corners)\n",
    "\n",
    "# Example usage\n",
    "c = Circle(Point(150, 100), 75)\n",
    "r = Rectangle(120, 80, 50, 40)\n",
    "p = Point(150, 100)\n",
    "\n",
    "print(\"Point in circle:\", point_in_circle(c, p))\n",
    "print(\"Rectangle entirely in circle:\", rect_in_circle(c, r))\n",
    "print(\"Rectangle overlaps circle:\", rect_circle_overlap(c, r))"
   ]
  },
  {
   "cell_type": "code",
   "execution_count": 19,
   "id": "f375bbdf-a962-41dc-85c0-09e3596fc0a8",
   "metadata": {},
   "outputs": [
    {
     "name": "stdout",
     "output_type": "stream",
     "text": [
      "Total Time: 01:10:30\n",
      "Average pace per mile for 13.1 miles: 00:05:22\n"
     ]
    }
   ],
   "source": [
    "class Time:\n",
    "    def __init__(self, hours=0, minutes=0, seconds=0):\n",
    "        self.hours = hours\n",
    "        self.minutes = minutes\n",
    "        self.seconds = seconds\n",
    "\n",
    "    def to_seconds(self):\n",
    "        return self.hours * 3600 + self.minutes * 60 + self.seconds\n",
    "\n",
    "    @staticmethod\n",
    "    def from_seconds(total_seconds):\n",
    "        hours = total_seconds // 3600\n",
    "        total_seconds %= 3600\n",
    "        minutes = total_seconds // 60\n",
    "        seconds = total_seconds % 60\n",
    "        return Time(int(hours), int(minutes), int(seconds))\n",
    "\n",
    "    def __str__(self):\n",
    "        return f\"{self.hours:02d}:{self.minutes:02d}:{self.seconds:02d}\"\n",
    "\n",
    "def mul_time(time, factor):\n",
    "    total_seconds = time.to_seconds() * factor\n",
    "    return Time.from_seconds(total_seconds)\n",
    "\n",
    "def average_pace(finishing_time, distance):\n",
    "    return mul_time(finishing_time, 1 / distance)\n",
    "\n",
    "# Example usage\n",
    "race_time = Time(1, 10, 30)\n",
    "distance = 13.1\n",
    "\n",
    "pace = average_pace(race_time, distance)\n",
    "\n",
    "print(\"Total Time:\", race_time)\n",
    "print(f\"Average pace per mile for {distance} miles: {pace}\")"
   ]
  },
  {
   "cell_type": "code",
   "execution_count": 25,
   "id": "fdbdd9cf-842b-48c4-bed8-f23c83d03f28",
   "metadata": {},
   "outputs": [
    {
     "name": "stdout",
     "output_type": "stream",
     "text": [
      "\n",
      "📆 Date-Time Tool Menu\n",
      "1. Get current day of the week\n",
      "2. Get age and time until next birthday\n",
      "3. Find the Double Day\n",
      "4. Find the n-times older day\n",
      "5. Exit\n"
     ]
    },
    {
     "name": "stdin",
     "output_type": "stream",
     "text": [
      "Enter your choice (1-5):  2\n",
      "Enter your birthday (YYYY-MM-DD):  2006-02-18\n"
     ]
    },
    {
     "name": "stdout",
     "output_type": "stream",
     "text": [
      "\n",
      "🎉 You are 19 years old.\n",
      "⏳ Time until next birthday: 233 days, 1 hours, 24 minutes, 46 seconds.\n",
      "\n",
      "\n",
      "📆 Date-Time Tool Menu\n",
      "1. Get current day of the week\n",
      "2. Get age and time until next birthday\n",
      "3. Find the Double Day\n",
      "4. Find the n-times older day\n",
      "5. Exit\n"
     ]
    },
    {
     "name": "stdin",
     "output_type": "stream",
     "text": [
      "Enter your choice (1-5):  5\n"
     ]
    },
    {
     "name": "stdout",
     "output_type": "stream",
     "text": [
      "Goodbye!\n"
     ]
    }
   ],
   "source": [
    "from datetime import datetime, timedelta\n",
    "\n",
    "def current_day_of_week():\n",
    "    today = datetime.today()\n",
    "    print(f\"Today is {today.strftime('%A')} ({today.date()})\")\n",
    "\n",
    "def birthday_info():\n",
    "    bday_str = input(\"Enter your birthday (YYYY-MM-DD): \")\n",
    "    try:\n",
    "        bday = datetime.strptime(bday_str, \"%Y-%m-%d\").date()\n",
    "    except ValueError:\n",
    "        print(\"Invalid format. Please use YYYY-MM-DD.\")\n",
    "        return\n",
    "\n",
    "    today = datetime.today().date()\n",
    "    age = today.year - bday.year\n",
    "    if (today.month, today.day) < (bday.month, bday.day):\n",
    "        age -= 1\n",
    "\n",
    "    next_bday = bday.replace(year=today.year)\n",
    "    if next_bday < today:\n",
    "        next_bday = next_bday.replace(year=today.year + 1)\n",
    "\n",
    "    time_until = datetime.combine(next_bday, datetime.min.time()) - datetime.now()\n",
    "\n",
    "    print(f\"\\n🎉 You are {age} years old.\")\n",
    "    print(f\"⏳ Time until next birthday: {time_until.days} days, \"\n",
    "          f\"{time_until.seconds // 3600} hours, \"\n",
    "          f\"{(time_until.seconds % 3600) // 60} minutes, \"\n",
    "          f\"{time_until.seconds % 60} seconds.\\n\")\n",
    "\n",
    "def double_day():\n",
    "    b1_str = input(\"Enter first birthdate (YYYY-MM-DD): \")\n",
    "    b2_str = input(\"Enter second birthdate (YYYY-MM-DD): \")\n",
    "    try:\n",
    "        b1 = datetime.strptime(b1_str, \"%Y-%m-%d\")\n",
    "        b2 = datetime.strptime(b2_str, \"%Y-%m-%d\")\n",
    "    except ValueError:\n",
    "        print(\"Invalid date format.\")\n",
    "        return\n",
    "\n",
    "    older, younger = sorted([b1, b2])\n",
    "    double_day = younger + (younger - older)\n",
    "    print(f\"\\n📅 Double Day: {double_day.date()}\\n\")\n",
    "\n",
    "def n_times_day():\n",
    "    b1_str = input(\"Enter first birthdate (YYYY-MM-DD): \")\n",
    "    b2_str = input(\"Enter second birthdate (YYYY-MM-DD): \")\n",
    "    try:\n",
    "        n = float(input(\"Enter the multiplier (n): \"))\n",
    "        b1 = datetime.strptime(b1_str, \"%Y-%m-%d\")\n",
    "        b2 = datetime.strptime(b2_str, \"%Y-%m-%d\")\n",
    "    except ValueError:\n",
    "        print(\"Invalid input.\")\n",
    "        return\n",
    "\n",
    "    if n == 1:\n",
    "        print(\"n cannot be 1.\")\n",
    "        return\n",
    "\n",
    "    older, younger = (b2, b1) if b1 > b2 else (b1, b2)\n",
    "    diff = younger - older\n",
    "    time_until = diff / (n - 1)\n",
    "    n_day = (older + time_until) if b1 > b2 else (younger + time_until)\n",
    "\n",
    "    print(f\"\\n📅 On {n_day.date()}, one person is {n:.1f} times older than the other.\\n\")\n",
    "\n",
    "def main():\n",
    "    while True:\n",
    "        print(\"\\n📆 Date-Time Tool Menu\")\n",
    "        print(\"1. Get current day of the week\")\n",
    "        print(\"2. Get age and time until next birthday\")\n",
    "        print(\"3. Find the Double Day\")\n",
    "        print(\"4. Find the n-times older day\")\n",
    "        print(\"5. Exit\")\n",
    "\n",
    "        choice = input(\"Enter your choice (1-5): \").strip()\n",
    "        if choice == '1':\n",
    "            current_day_of_week()\n",
    "        elif choice == '2':\n",
    "            birthday_info()\n",
    "        elif choice == '3':\n",
    "            double_day()\n",
    "        elif choice == '4':\n",
    "            n_times_day()\n",
    "        elif choice == '5':\n",
    "            print(\"Goodbye!\")\n",
    "            break\n",
    "        else:\n",
    "            print(\"Invalid option. Please enter a number from 1 to 5.\")\n",
    "\n",
    "if __name__ == \"__main__\":\n",
    "    main()"
   ]
  },
  {
   "cell_type": "code",
   "execution_count": 33,
   "id": "3ca1cbd1-bddb-48e5-8210-d6bd2433398a",
   "metadata": {},
   "outputs": [
    {
     "name": "stdin",
     "output_type": "stream",
     "text": [
      "Enter the path to the folder:  Zipdemo\n"
     ]
    },
    {
     "name": "stdout",
     "output_type": "stream",
     "text": [
      "❌ Error: Folder not found.\n"
     ]
    }
   ],
   "source": [
    "import os\n",
    "import re\n",
    "\n",
    "def search_text_files_by_pattern():\n",
    "    folder_path = input(\"Enter the path to the folder: \").strip()\n",
    "    if not os.path.isdir(folder_path):\n",
    "        print(\"❌ Error: Folder not found.\")\n",
    "        return\n",
    "\n",
    "    user_regex = input(\"Enter the regular expression to search for: \")\n",
    "    try:\n",
    "        pattern = re.compile(user_regex)\n",
    "    except re.error:\n",
    "        print(\"❌ Error: Invalid regular expression.\")\n",
    "        return\n",
    "\n",
    "    print(\"\\n=== Matching Lines ===\\n\")\n",
    "    found = False\n",
    "\n",
    "    for filename in os.listdir(folder_path):\n",
    "        if filename.lower().endswith(\".txt\"):\n",
    "            filepath = os.path.join(folder_path, filename)\n",
    "            try:\n",
    "                with open(filepath, 'r', encoding='utf-8') as file:\n",
    "                    for lineno, line in enumerate(file, 1):\n",
    "                        if pattern.search(line):\n",
    "                            print(f\"{filename} [Line {lineno}]: {line.strip()}\")\n",
    "                            found = True\n",
    "            except Exception as e:\n",
    "                print(f\"⚠️ Error reading {filename}: {e}\")\n",
    "\n",
    "    if not found:\n",
    "        print(\"No matches found.\")\n",
    "\n",
    "if __name__ == \"__main__\":\n",
    "    search_text_files_by_pattern()"
   ]
  },
  {
   "cell_type": "code",
   "execution_count": null,
   "id": "b094bae9-a3dd-4fa4-b9a4-cbe785f7df16",
   "metadata": {},
   "outputs": [],
   "source": []
  }
 ],
 "metadata": {
  "kernelspec": {
   "display_name": "Python [conda env:base] *",
   "language": "python",
   "name": "conda-base-py"
  },
  "language_info": {
   "codemirror_mode": {
    "name": "ipython",
    "version": 3
   },
   "file_extension": ".py",
   "mimetype": "text/x-python",
   "name": "python",
   "nbconvert_exporter": "python",
   "pygments_lexer": "ipython3",
   "version": "3.12.7"
  }
 },
 "nbformat": 4,
 "nbformat_minor": 5
}
